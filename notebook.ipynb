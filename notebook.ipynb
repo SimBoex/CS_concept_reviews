{
 "cells": [
  {
   "cell_type": "code",
   "execution_count": 12,
   "metadata": {},
   "outputs": [
    {
     "name": "stdout",
     "output_type": "stream",
     "text": [
      "the median value is 1\n",
      "the median value is 2\n"
     ]
    },
    {
     "data": {
      "text/plain": [
       "1"
      ]
     },
     "execution_count": 12,
     "metadata": {},
     "output_type": "execute_result"
    }
   ],
   "source": [
    "def function(x):\n",
    "    # base case\n",
    "    if x < 2:\n",
    "        return  2\n",
    "    low = 0\n",
    "    high = x\n",
    "\n",
    "    while low <=high:\n",
    "        # computing the median value\n",
    "        med = (low + high) // 2\n",
    "        print(\"the median value is\",med)\n",
    "        # computing the square\n",
    "        sq  = med  * med \n",
    "        # perfect square\n",
    "        if sq == x:\n",
    "            return med\n",
    "        elif sq < x:\n",
    "            low = med + 1\n",
    "        else:\n",
    "            high = med - 1\n",
    "    return high\n",
    "\n",
    "############################\n",
    "function(2)\n",
    "        "
   ]
  },
  {
   "cell_type": "code",
   "execution_count": 7,
   "metadata": {},
   "outputs": [],
   "source": [
    "# return the number of paths to reach x from 0. at each step i can make a move of 1 or 2 from the current value\n",
    "def recursive_function(x):\n",
    "    if x == 1:\n",
    "        return 1\n",
    "    if x == 2:\n",
    "        return 2\n",
    "    \n",
    "    ## recursive step\n",
    "    num_paths_for_x = recursive_function(x-2) + recursive_function(x-1)\n",
    "    return num_paths_for_x"
   ]
  },
  {
   "cell_type": "code",
   "execution_count": 8,
   "metadata": {},
   "outputs": [
    {
     "data": {
      "text/plain": [
       "5"
      ]
     },
     "execution_count": 8,
     "metadata": {},
     "output_type": "execute_result"
    }
   ],
   "source": [
    "recursive_function(4)"
   ]
  },
  {
   "cell_type": "code",
   "execution_count": 15,
   "metadata": {},
   "outputs": [],
   "source": [
    "def dyn_prog_function(x):\n",
    "    # store the number of paths to reach value j at index j\n",
    "    paths = []\n",
    "    ## initialization\n",
    "    paths.append(0)\n",
    "    paths.append(1)\n",
    "    paths.append(2)\n",
    "    \n",
    "    # iterative step:\n",
    "    for j in range(3,x + 1):\n",
    "        # number of paths to reach value j\n",
    "        paths.append(paths[j - 2] + paths[j - 1])\n",
    "    return paths[x]\n",
    "    "
   ]
  },
  {
   "cell_type": "code",
   "execution_count": 16,
   "metadata": {},
   "outputs": [
    {
     "data": {
      "text/plain": [
       "5"
      ]
     },
     "execution_count": 16,
     "metadata": {},
     "output_type": "execute_result"
    }
   ],
   "source": [
    "dyn_prog_function(4)\n"
   ]
  },
  {
   "cell_type": "code",
   "execution_count": null,
   "metadata": {},
   "outputs": [],
   "source": []
  }
 ],
 "metadata": {
  "kernelspec": {
   "display_name": "Python 3",
   "language": "python",
   "name": "python3"
  },
  "language_info": {
   "codemirror_mode": {
    "name": "ipython",
    "version": 3
   },
   "file_extension": ".py",
   "mimetype": "text/x-python",
   "name": "python",
   "nbconvert_exporter": "python",
   "pygments_lexer": "ipython3",
   "version": "3.11.9"
  }
 },
 "nbformat": 4,
 "nbformat_minor": 2
}
